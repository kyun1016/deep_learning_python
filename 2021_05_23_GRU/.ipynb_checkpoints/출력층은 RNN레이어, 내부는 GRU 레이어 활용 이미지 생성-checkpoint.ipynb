{
 "cells": [
  {
   "cell_type": "code",
   "execution_count": null,
   "id": "934f9b68",
   "metadata": {},
   "outputs": [
    {
     "name": "stdout",
     "output_type": "stream",
     "text": [
      "Epoch:0/200 Error_train: nan Error_test: nan\n"
     ]
    },
    {
     "data": {
      "image/png": "[encoded data removed]",
      "text/plain": [
       "<Figure size 720x72 with 10 Axes>"
      ]
     },
     "metadata": {
      "needs_background": "light"
     },
     "output_type": "display_data"
    },
    {
     "name": "stdout",
     "output_type": "stream",
     "text": [
      "<class 'list'>\n",
      "<class 'list'>\n",
      "<class 'list'>\n",
      "<class 'list'>\n",
      "<class 'list'>\n",
      "<class 'list'>\n",
      "<class 'list'>\n",
      "<class 'list'>\n",
      "<class 'list'>\n",
      "<class 'list'>\n"
     ]
    },
    {
     "data": {
      "image/png": "[encoded data removed]",
      "text/plain": [
       "<Figure size 720x72 with 10 Axes>"
      ]
     },
     "metadata": {
      "needs_background": "light"
     },
     "output_type": "display_data"
    },
    {
     "name": "stdout",
     "output_type": "stream",
     "text": [
      "Epoch:10/200 Error_train: nan Error_test: nan\n"
     ]
    },
    {
     "data": {
      "image/png": "[encoded data removed]",
      "text/plain": [
       "<Figure size 720x72 with 10 Axes>"
      ]
     },
     "metadata": {
      "needs_background": "light"
     },
     "output_type": "display_data"
    },
    {
     "name": "stdout",
     "output_type": "stream",
     "text": [
      "<class 'list'>\n",
      "<class 'list'>\n",
      "<class 'list'>\n",
      "<class 'list'>\n",
      "<class 'list'>\n",
      "<class 'list'>\n",
      "<class 'list'>\n",
      "<class 'list'>\n",
      "<class 'list'>\n",
      "<class 'list'>\n"
     ]
    },
    {
     "data": {
      "image/png": "[encoded data removed]",
      "text/plain": [
       "<Figure size 720x72 with 10 Axes>"
      ]
     },
     "metadata": {
      "needs_background": "light"
     },
     "output_type": "display_data"
    },
    {
     "name": "stdout",
     "output_type": "stream",
     "text": [
      "Epoch:20/200 Error_train: nan Error_test: nan\n"
     ]
    },
    {
     "data": {
      "image/png": "[encoded data removed]",
      "text/plain": [
       "<Figure size 720x72 with 10 Axes>"
      ]
     },
     "metadata": {
      "needs_background": "light"
     },
     "output_type": "display_data"
    },
    {
     "name": "stdout",
     "output_type": "stream",
     "text": [
      "<class 'list'>\n",
      "<class 'list'>\n",
      "<class 'list'>\n",
      "<class 'list'>\n",
      "<class 'list'>\n",
      "<class 'list'>\n",
      "<class 'list'>\n",
      "<class 'list'>\n",
      "<class 'list'>\n",
      "<class 'list'>\n"
     ]
    },
    {
     "data": {
      "image/png": "[encoded data removed]",
      "text/plain": [
       "<Figure size 720x72 with 10 Axes>"
      ]
     },
     "metadata": {
      "needs_background": "light"
     },
     "output_type": "display_data"
    },
    {
     "name": "stdout",
     "output_type": "stream",
     "text": [
      "Epoch:30/200 Error_train: nan Error_test: nan\n"
     ]
    },
    {
     "data": {
      "image/png": "[encoded data removed]",
      "text/plain": [
       "<Figure size 720x72 with 10 Axes>"
      ]
     },
     "metadata": {
      "needs_background": "light"
     },
     "output_type": "display_data"
    },
    {
     "name": "stdout",
     "output_type": "stream",
     "text": [
      "<class 'list'>\n",
      "<class 'list'>\n",
      "<class 'list'>\n",
      "<class 'list'>\n",
      "<class 'list'>\n",
      "<class 'list'>\n",
      "<class 'list'>\n",
      "<class 'list'>\n",
      "<class 'list'>\n",
      "<class 'list'>\n"
     ]
    },
    {
     "data": {
      "image/png": "[encoded data removed]",
      "text/plain": [
       "<Figure size 720x72 with 10 Axes>"
      ]
     },
     "metadata": {
      "needs_background": "light"
     },
     "output_type": "display_data"
    },
    {
     "name": "stdout",
     "output_type": "stream",
     "text": [
      "Epoch:40/200 Error_train: nan Error_test: nan\n"
     ]
    },
    {
     "data": {
      "image/png": "[encoded data removed]",
      "text/plain": [
       "<Figure size 720x72 with 10 Axes>"
      ]
     },
     "metadata": {
      "needs_background": "light"
     },
     "output_type": "display_data"
    },
    {
     "name": "stdout",
     "output_type": "stream",
     "text": [
      "<class 'list'>\n",
      "<class 'list'>\n",
      "<class 'list'>\n",
      "<class 'list'>\n",
      "<class 'list'>\n",
      "<class 'list'>\n",
      "<class 'list'>\n",
      "<class 'list'>\n",
      "<class 'list'>\n",
      "<class 'list'>\n"
     ]
    },
    {
     "data": {
      "image/png": "[encoded data removed]",
      "text/plain": [
       "<Figure size 720x72 with 10 Axes>"
      ]
     },
     "metadata": {
      "needs_background": "light"
     },
     "output_type": "display_data"
    },
    {
     "name": "stdout",
     "output_type": "stream",
     "text": [
      "Epoch:50/200 Error_train: nan Error_test: nan\n"
     ]
    },
    {
     "data": {
      "image/png": "[encoded data removed]",
      "text/plain": [
       "<Figure size 720x72 with 10 Axes>"
      ]
     },
     "metadata": {
      "needs_background": "light"
     },
     "output_type": "display_data"
    },
    {
     "name": "stdout",
     "output_type": "stream",
     "text": [
      "<class 'list'>\n",
      "<class 'list'>\n",
      "<class 'list'>\n",
      "<class 'list'>\n",
      "<class 'list'>\n",
      "<class 'list'>\n",
      "<class 'list'>\n",
      "<class 'list'>\n",
      "<class 'list'>\n",
      "<class 'list'>\n"
     ]
    },
    {
     "data": {
      "image/png": "[encoded data removed]",
      "text/plain": [
       "<Figure size 720x72 with 10 Axes>"
      ]
     },
     "metadata": {
      "needs_background": "light"
     },
     "output_type": "display_data"
    },
    {
     "name": "stdout",
     "output_type": "stream",
     "text": [
      "Epoch:60/200 Error_train: nan Error_test: nan\n"
     ]
    },
    {
     "data": {
      "image/png": "[encoded data removed]",
      "text/plain": [
       "<Figure size 720x72 with 10 Axes>"
      ]
     },
     "metadata": {
      "needs_background": "light"
     },
     "output_type": "display_data"
    },
    {
     "name": "stdout",
     "output_type": "stream",
     "text": [
      "<class 'list'>\n",
      "<class 'list'>\n",
      "<class 'list'>\n",
      "<class 'list'>\n",
      "<class 'list'>\n",
      "<class 'list'>\n",
      "<class 'list'>\n",
      "<class 'list'>\n",
      "<class 'list'>\n",
      "<class 'list'>\n"
     ]
    },
    {
     "data": {
      "image/png": "[encoded data removed]",
      "text/plain": [
       "<Figure size 720x72 with 10 Axes>"
      ]
     },
     "metadata": {
      "needs_background": "light"
     },
     "output_type": "display_data"
    },
    {
     "name": "stdout",
     "output_type": "stream",
     "text": [
      "Epoch:70/200 Error_train: nan Error_test: nan\n"
     ]
    },
    {
     "data": {
      "image/png": "[encoded data removed]",
      "text/plain": [
       "<Figure size 720x72 with 10 Axes>"
      ]
     },
     "metadata": {
      "needs_background": "light"
     },
     "output_type": "display_data"
    },
    {
     "name": "stdout",
     "output_type": "stream",
     "text": [
      "<class 'list'>\n",
      "<class 'list'>\n",
      "<class 'list'>\n",
      "<class 'list'>\n",
      "<class 'list'>\n",
      "<class 'list'>\n",
      "<class 'list'>\n",
      "<class 'list'>\n",
      "<class 'list'>\n",
      "<class 'list'>\n"
     ]
    },
    {
     "data": {
      "image/png": "[encoded data removed]",
      "text/plain": [
       "<Figure size 720x72 with 10 Axes>"
      ]
     },
     "metadata": {
      "needs_background": "light"
     },
     "output_type": "display_data"
    },
    {
     "name": "stdout",
     "output_type": "stream",
     "text": [
      "Epoch:80/200 Error_train: nan Error_test: nan\n"
     ]
    },
    {
     "data": {
      "image/png": "[encoded data removed]",
      "text/plain": [
       "<Figure size 720x72 with 10 Axes>"
      ]
     },
     "metadata": {
      "needs_background": "light"
     },
     "output_type": "display_data"
    },
    {
     "name": "stdout",
     "output_type": "stream",
     "text": [
      "<class 'list'>\n",
      "<class 'list'>\n",
      "<class 'list'>\n",
      "<class 'list'>\n",
      "<class 'list'>\n",
      "<class 'list'>\n",
      "<class 'list'>\n",
      "<class 'list'>\n",
      "<class 'list'>\n",
      "<class 'list'>\n"
     ]
    },
    {
     "data": {
      "image/png": "[encoded data removed]",
      "text/plain": [
       "<Figure size 720x72 with 10 Axes>"
      ]
     },
     "metadata": {
      "needs_background": "light"
     },
     "output_type": "display_data"
    },
    {
     "name": "stdout",
     "output_type": "stream",
     "text": [
      "Epoch:90/200 Error_train: nan Error_test: nan\n"
     ]
    },
    {
     "data": {
      "image/png": "[encoded data removed]",
      "text/plain": [
       "<Figure size 720x72 with 10 Axes>"
      ]
     },
     "metadata": {
      "needs_background": "light"
     },
     "output_type": "display_data"
    },
    {
     "name": "stdout",
     "output_type": "stream",
     "text": [
      "<class 'list'>\n",
      "<class 'list'>\n",
      "<class 'list'>\n",
      "<class 'list'>\n",
      "<class 'list'>\n",
      "<class 'list'>\n",
      "<class 'list'>\n",
      "<class 'list'>\n",
      "<class 'list'>\n",
      "<class 'list'>\n"
     ]
    },
    {
     "data": {
      "image/png": "[encoded data removed]",
      "text/plain": [
       "<Figure size 720x72 with 10 Axes>"
      ]
     },
     "metadata": {
      "needs_background": "light"
     },
     "output_type": "display_data"
    },
    {
     "name": "stdout",
     "output_type": "stream",
     "text": [
      "Epoch:100/200 Error_train: nan Error_test: nan\n"
     ]
    },
    {
     "data": {
      "image/png": "[encoded data removed]",
      "text/plain": [
       "<Figure size 720x72 with 10 Axes>"
      ]
     },
     "metadata": {
      "needs_background": "light"
     },
     "output_type": "display_data"
    },
    {
     "name": "stdout",
     "output_type": "stream",
     "text": [
      "<class 'list'>\n",
      "<class 'list'>\n",
      "<class 'list'>\n",
      "<class 'list'>\n",
      "<class 'list'>\n",
      "<class 'list'>\n",
      "<class 'list'>\n",
      "<class 'list'>\n",
      "<class 'list'>\n",
      "<class 'list'>\n"
     ]
    },
    {
     "data": {
      "image/png": "[encoded data removed]",
      "text/plain": [
       "<Figure size 720x72 with 10 Axes>"
      ]
     },
     "metadata": {
      "needs_background": "light"
     },
     "output_type": "display_data"
    }
   ],
   "source": [
    "# import numpy as np\n",
    "import cupy as np\n",
    "import matplotlib.pyplot as plt\n",
    "from sklearn import datasets\n",
    "from sklearn.model_selection import train_test_split\n",
    "\n",
    "# -- 각 설정값 --\n",
    "img_size = 8       # 이미지의 높이와 폭\n",
    "n_time = 4         # 시계열 데이터의 개수\n",
    "n_in = img_size    # 입력층의 뉴런 수\n",
    "n_mid = 128        # 은닉층의 뉴런 수\n",
    "n_out = img_size   # 출력층의 뉴런 수\n",
    "n_disp = 10        # 표시할 이미지 개수\n",
    "\n",
    "eta = 0.01         # 학습률\n",
    "epochs = 51\n",
    "batch_size = 32\n",
    "interval = 10      # 학습 결과 표시 간격\n",
    "\n",
    "def sigmoid(x):\n",
    "    return 1/(1+np.exp(-x))\n",
    "\n",
    "# -- 이미지 데이터 준비 --\n",
    "digits = datasets.load_digits()\n",
    "digits = np.asarray(digits.data)\n",
    "digits_imgs = digits.reshape(-1, img_size, img_size)\n",
    "digits_imgs /= 15\n",
    "\n",
    "disp_imgs = digits_imgs[:n_disp]              # 결과를 나타냄\n",
    "train_imgs = digits_imgs[n_disp:]             # 훈련\n",
    "n_sample_in_img = img_size-n_time             # 이미지 하나 안 샘플 수\n",
    "n_sample = len(train_imgs) * n_sample_in_img  # 샘플 수\n",
    "\n",
    "input_data = np.zeros((n_sample, n_time, n_in))  # 입력\n",
    "correct_data = np.zeros((n_sample, n_out))       # 정답\n",
    "for i in range(len(train_imgs)):\n",
    "    for j in range(n_sample_in_img):\n",
    "        sample_id = i*n_sample_in_img + j\n",
    "        input_data[sample_id] = train_imgs[i, j:j+n_time]\n",
    "        correct_data[sample_id] = train_imgs[i, j+n_time]\n",
    "\n",
    "x_train, x_test, t_train, t_test = train_test_split(input_data, correct_data)\n",
    "\n",
    "# -- GRU층 --\n",
    "class GRULayer:\n",
    "    def __init__(self, n_upper, n):\n",
    "        # 파라미터의 초깃값\n",
    "        self.w = np.random.randn(3, n_upper, n) / np.sqrt(n_upper)\n",
    "        self.v = np.random.randn(3, n, n) / np.sqrt(n)\n",
    "        \n",
    "    def forward(self, x, y_prev):\n",
    "        a0 = sigmoid(np.dot(x, self.w[0]) + np.dot(y_prev, self.v[0]))     # 업데이트 게이트\n",
    "        a1 = sigmoid(np.dot(x, self.w[1]) + np.dot(y_prev, self.v[1]))     # 재설정 게이트\n",
    "        a2 = np.tanh(np.dot(x, self.w[2]) + np.dot(a1*y_prev, self.v[2]))  # 새로운 기억\n",
    "        self.gates = np.stack((a0, a1, a2))\n",
    "        \n",
    "        self.y = (1-a0)*y_prev + a0*a2     # 출력\n",
    "        \n",
    "    def backward(self, x, y, y_prev, gates, grad_y):\n",
    "        a0, a1, a2 = gates\n",
    "        \n",
    "        # 새로운 기억\n",
    "        delta_a2 = grad_y * a0 * (1-a2**2)\n",
    "        self.grad_w[2] += np.dot(x.T, delta_a2)\n",
    "        self.grad_v[2] += np.dot((a1*y_prev).T, delta_a2)\n",
    "        \n",
    "        # 업데이트 게이트\n",
    "        delta_a0 = grad_y * (a2-y_prev) * a0 * (1-a0)\n",
    "        self.grad_w[0] += np.dot(x.T, delta_a0)\n",
    "        self.grad_v[0] += np.dot(y_prev.T, delta_a0)\n",
    "        \n",
    "        # 리셋 게이트\n",
    "        s = np.dot(delta_a2, self.v[2].T)\n",
    "        delta_a1 = s * y_prev * a1 * (1-a1)\n",
    "        self.grad_w[1] += np.dot(x.T, delta_a1)\n",
    "        self.grad_v[1] += np.dot(y_prev.T, delta_a1)\n",
    "        \n",
    "        # x의 기울기\n",
    "        self.grad_x = np.dot(delta_a0, self.w[0].T) \n",
    "        + np.dot(delta_a1, self.w[1].T) \n",
    "        + np.dot(delta_a2, self.w[2].T)\n",
    "        \n",
    "        # y_prev 기울기\n",
    "        self.grad_y_prev = np.dot(delta_a0, self.v[0].T)\n",
    "        + np.dot(delta_a1, self.v[1].T)\n",
    "        + a1*s + grad_y*(1-a0)\n",
    "        \n",
    "    def reset_sum_grad(self):\n",
    "        self.grad_w = np.zeros_like(self.w)\n",
    "        self.grad_v = np.zeros_like(self.v)\n",
    "        \n",
    "    def update(self, eta):\n",
    "        self.w -= eta * self.grad_w\n",
    "        self.v -= eta * self.grad_v\n",
    "        \n",
    "# -- 전결합 출력층 --\n",
    "class OutputLayer:\n",
    "    def __init__(self, n_upper, n):\n",
    "        # 자비에르 초기화(Xavier Initialization) 기반의 초깃값\n",
    "        self.w = np.random.randn(n_upper, n) / np.sqrt(n_upper)\n",
    "        self.b = np.zeros(n)\n",
    "        \n",
    "    def forward(self, x):\n",
    "        self.x = x\n",
    "        u = np.dot(x, self.w) + self.b\n",
    "        self.y = u      # 항등 함수\n",
    "        \n",
    "    def backward(self, t):\n",
    "        delta = self.y - t\n",
    "        \n",
    "        self.grad_w = np.dot(self.x.T, delta)\n",
    "        self.grad_b = np.sum(delta, axis=0)\n",
    "        self.grad_x = np.dot(delta, self.w.T)\n",
    "        \n",
    "    def update(self, eta):\n",
    "        self.w -= eta * self.grad_w\n",
    "        self.b -= eta * self.grad_b\n",
    "        \n",
    "# -- 각 신경망층의 초기화 --\n",
    "gru_layer = GRULayer(n_in, n_mid)\n",
    "output_layer = OutputLayer(n_mid, n_out)\n",
    "\n",
    "# -- 훈련 --\n",
    "def train(x_mb, t_mb):\n",
    "    # 순전파 GRU층\n",
    "    y_rnn = np.zeros((len(x_mb), n_time+1, n_mid))\n",
    "    gates_rnn = np.zeros((3, len(x_mb), n_time, n_mid))\n",
    "    y_prev = y_rnn[:, 0, :]\n",
    "    for i in range(n_time):\n",
    "        x = x_mb[:, i, :]\n",
    "        gru_layer.forward(x, y_prev)\n",
    "        \n",
    "        y = gru_layer.y\n",
    "        y_rnn[:, i+1, :] = y\n",
    "        y_prev = y\n",
    "        \n",
    "        gates = gru_layer.gates\n",
    "        gates_rnn[:,:,i,:] = gates\n",
    "        \n",
    "    # 순전파 출력층\n",
    "    output_layer.forward(y)\n",
    "    \n",
    "    # 역전파 출력층\n",
    "    output_layer.backward(t_mb)\n",
    "    grad_y = output_layer.grad_x\n",
    "    \n",
    "    # 역전파 GRU층\n",
    "    gru_layer.reset_sum_grad()\n",
    "    for i in reversed(range(n_time)):\n",
    "        x = x_mb[:, i, :]\n",
    "        y = y_rnn[:,i+1,:]\n",
    "        y_prev = y_rnn[:, i, :]\n",
    "        gates = gates_rnn[:,:,i,:]\n",
    "        \n",
    "        gru_layer.backward(x, y, y_prev, gates, grad_y)\n",
    "        grad_y = gru_layer.grad_y_prev\n",
    "        \n",
    "    # 파라미터 갱신\n",
    "    gru_layer.update(eta)\n",
    "    output_layer.update(eta)\n",
    "    \n",
    "# -- 예측 --\n",
    "def predict(x_mb):\n",
    "    # 순전파 GRU층\n",
    "    y_prev = np.zeros((len(x_mb), n_mid))\n",
    "    for i in range(n_time):\n",
    "        x = x_mb[:, i, :]\n",
    "        gru_layer.forward(x, y_prev)\n",
    "        y = gru_layer.y\n",
    "        y_prev = y\n",
    "        \n",
    "    # 순전파 출력층\n",
    "    output_layer.forward(y)\n",
    "    return output_layer.y\n",
    "\n",
    "# -- 오차 계산 --\n",
    "def get_error(x, t):\n",
    "    y = predict(x)\n",
    "    return 1.0/2.0*np.sum(np.square(y - t))    # 오차 제곱의 합\n",
    "\n",
    "# -- 이미지를 생성하고 나타냄 --\n",
    "def generate_images():\n",
    "    # 원본 이미지\n",
    "    plt.figure(figsize=(10,1))\n",
    "    for i in range(n_disp):\n",
    "        ax = plt.subplot(1, n_disp, i+1)\n",
    "        print(\"원본\")\n",
    "        print(disp_imgs[i])\n",
    "        plt.imshow(disp_imgs[i].tolist(), cmap=\"Greys_r\")\n",
    "        ax.get_xaxis().set_visible(False)\n",
    "        ax.get_yaxis().set_visible(False)\n",
    "    plt.show()\n",
    "    \n",
    "    # 아래쪽 절반 부분을 RNN으로 생성한 이미지\n",
    "    gen_imgs = disp_imgs.copy()\n",
    "    plt.figure(figsize=(10, 1))\n",
    "    for i in range(n_disp):\n",
    "        for j in range(n_sample_in_img):\n",
    "            x = gen_imgs[i, j:j+n_time].reshape(1, n_time, img_size)\n",
    "            gen_imgs[i, j+n_time] = predict(x)[0]\n",
    "        ax = plt.subplot(1, n_disp, i+1)\n",
    "        print(\"생성\")\n",
    "        print(gen_imgs[i])\n",
    "        plt.imshow(gen_imgs[i].tolist(), cmap=\"Greys_r\")\n",
    "        ax.get_xaxis().set_visible(False)\n",
    "        ax.get_yaxis().set_visible(False)\n",
    "    plt.show()\n",
    "    \n",
    "n_batch = len(x_train) // batch_size     # 1에포크당 배치 개수\n",
    "\n",
    "for i in range(epochs):\n",
    "    # -- 학습 --\n",
    "    index_random = np.arange(len(x_train))\n",
    "    np.random.shuffle(index_random)      # 인덱스 뒤섞기(셔플하기)\n",
    "    for j in range(n_batch):\n",
    "        # 미니 배치 학습 실행\n",
    "        mb_index = index_random[j*batch_size : (j+1)*batch_size]\n",
    "        x_mb = x_train[mb_index, :]\n",
    "        t_mb = t_train[mb_index, :]\n",
    "        \n",
    "        # 훈련\n",
    "        train(x_mb, t_mb)\n",
    "        \n",
    "    # -- 결과 확인 --\n",
    "    if i%interval == 0:\n",
    "        # 오차 측정\n",
    "        error_train = get_error(x_train, t_train)\n",
    "        error_test = get_error(x_test, t_test)\n",
    "        print(\"Epoch:\" + str(i) + \"/\" + str(epochs-1),\n",
    "              \"Error_train: \" + str(error_train),\n",
    "              \"Error_test: \" + str(error_test))\n",
    "        \n",
    "        # 이미지 생성\n",
    "        generate_images()"
   ]
  }
 ],
 "metadata": {
  "kernelspec": {
   "display_name": "Python 3",
   "language": "python",
   "name": "python3"
  },
  "language_info": {
   "codemirror_mode": {
    "name": "ipython",
    "version": 3
   },
   "file_extension": ".py",
   "mimetype": "text/x-python",
   "name": "python",
   "nbconvert_exporter": "python",
   "pygments_lexer": "ipython3",
   "version": "3.8.8"
  }
 },
 "nbformat": 4,
 "nbformat_minor": 5
}
