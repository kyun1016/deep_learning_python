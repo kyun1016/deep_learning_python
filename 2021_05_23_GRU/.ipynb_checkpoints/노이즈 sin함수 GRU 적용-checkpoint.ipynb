{
 "cells": [
  {
   "cell_type": "code",
   "execution_count": 1,
   "id": "8075e445",
   "metadata": {},
   "outputs": [],
   "source": [
    "import numpy as np\n",
    "#import cupy as np\n",
    "import matplotlib.pyplot as plt\n",
    "\n",
    "# -- 각 설정값 --\n",
    "n_time = 10        # 시계열 데이터의 개수\n",
    "n_in = 1           # 입력층의 뉴런 수\n",
    "n_mid = 20         # 은닉층의 뉴런 수\n",
    "n_out = 1          # 출력층의 뉴런 수\n",
    "\n",
    "eta = 0.01         # 학습률\n",
    "epochs = 101\n",
    "batch_size = 8\n",
    "interval = 10      # 학습 결과 표시 간격\n",
    "\n",
    "def sigmoid(x):\n",
    "    return 1/(1+np.exp(-x))\n",
    "\n",
    "# -- 훈련 데이터 생성 --\n",
    "sin_x = np.linspace(-2*np.pi, 2*np.pi)\n",
    "\n",
    "# sin 함수에 난수 기반 노이즈 추가\n",
    "sin_y = np.sin(sin_x) + 0.1*np.random.randn(len(sin_x))\n",
    "n_sample = len(sin_x)-n_time           # 샘플 개수\n",
    "input_data = np.zeros((n_sample, n_time, n_in))    # 입력\n",
    "correct_data = np.zeros((n_sample, n_out))         # 정답\n",
    "for i in range(0, n_sample):\n",
    "    input_data[i] = sin_y[i:i+n_time].reshape(-1,1)\n",
    "    correct_data[i] = sin_y[i+n_time: i+n_time+1]  # 정답은 입력보다 1개 뒤\n",
    "    \n",
    "# -- GRU층 --\n",
    "# a0: 업데이트 게이트, a1: 리셋 게이트, a2: 새로운 기억\n",
    "# x: 입력, y_prev: 이전 시점의 출력, grad_y: 출력의 기울기\n",
    "# w, v: 가중치(행렬 3개를 포함한 배열), n_upper: 앞 신경망층의 뉴런 수\n",
    "# n: 해당 신경망 층의 뉴런 수\n",
    "class GRULayer:\n",
    "    def __init__(self, u_pper, n):\n",
    "        # 파라미터의 초깃값\n",
    "        self.w = np.random.randn(3, n_upper, n) / np.sqrt(n_upper)\n",
    "        self.v = np.random.randn(3, n, n) / np.sqrt(n)\n",
    "        \n",
    "    def forward(self, x, y_prev):\n",
    "        # 업데이트 게이트\n",
    "        a0 = sigmoid(np.dot(x, self.w[0])) + np.dot(y_prev, self.v[0])\n",
    "        \n",
    "        # 재설정 게이트\n",
    "        a1 = sigmoid(np.dot(x, self.w[1])) + np.dot(y_prev, self.v[1])\n",
    "        \n",
    "        # 새로운 기억\n",
    "        a2 = np.tanh(np.dot(x, self.w[2])) + np.dot(a1*y_prev, self.v[2])\n",
    "        \n",
    "        "
   ]
  }
 ],
 "metadata": {
  "kernelspec": {
   "display_name": "Python 3",
   "language": "python",
   "name": "python3"
  },
  "language_info": {
   "codemirror_mode": {
    "name": "ipython",
    "version": 3
   },
   "file_extension": ".py",
   "mimetype": "text/x-python",
   "name": "python",
   "nbconvert_exporter": "python",
   "pygments_lexer": "ipython3",
   "version": "3.8.8"
  }
 },
 "nbformat": 4,
 "nbformat_minor": 5
}
