{
 "cells": [
  {
   "cell_type": "markdown",
   "id": "81104c4a",
   "metadata": {},
   "source": [
    "4.4 RNN층 구현\n",
    "4.4.1 RNN층 클래스"
   ]
  },
  {
   "cell_type": "code",
   "execution_count": 2,
   "id": "65f81175",
   "metadata": {},
   "outputs": [],
   "source": [
    "import numpy as np\n",
    "\n",
    "# -- RNN층 --\n",
    "class SimpleRNNLayer:\n",
    "    def __init__(self, n_upper, n):\n",
    "        # 파라미터 초깃값 설정\n",
    "        self.w = np.random.randn(n_upper, n) / np.sqrt(n_upper)\n",
    "        self.v = np.random.randn(n,n) / np.sqrt(n)\n",
    "        self.b = np.zeros(n)\n",
    "        \n",
    "    def forward(self, x, y_prev):    # y_prev: 이전 시점의 출력\n",
    "        u = np.dot(x, self.w) + np.dot(y_prev, self.v) + self.b\n",
    "        self.y = np.tanh(u)          # 출력\n",
    "        \n",
    "    def backward(self, x, y, y_prev, grad_y):\n",
    "        delta = grad_y * (1 - y**2)\n",
    "        \n",
    "        # 각 기울기\n",
    "        self.grad_w += np.dot(x.T, delta)\n",
    "        self.grad_v += np.dot(y_prev.T, delta)\n",
    "        self.grad_b += np.sum(delta, axis=0)\n",
    "        \n",
    "        self.grad_x = np.dot(delta, self.w.T)\n",
    "        self.grad_y_prev = np.dot(delta, self.v.T)\n",
    "        \n",
    "    def rest_sum_grad(self):\n",
    "        self.grad_w = np.zeros_like(self.w)\n",
    "        self.grad_v = np.zeros_like(self.v)\n",
    "        self.grad_b = np.zeros_like(self.b)\n",
    "        \n",
    "    def update(self, eta):\n",
    "        self.w -= eta * self.grad_w\n",
    "        self.v -= eta * self.grad_v\n",
    "        self.b -= eta * self.grad_b"
   ]
  },
  {
   "cell_type": "markdown",
   "id": "70b95708",
   "metadata": {},
   "source": [
    "4.5 간단한 구조의 RNN 구현\n",
    "4.5.1 훈련 데이터 생성"
   ]
  },
  {
   "cell_type": "code",
   "execution_count": 8,
   "id": "d9adb0b3",
   "metadata": {},
   "outputs": [
    {
     "data": {
      "image/png": "[encoded data removed]",
      "text/plain": [
       "<Figure size 432x288 with 1 Axes>"
      ]
     },
     "metadata": {
      "needs_background": "light"
     },
     "output_type": "display_data"
    }
   ],
   "source": [
    "import numpy as np\n",
    "import matplotlib.pyplot as plt\n",
    "\n",
    "sin_x = np.linspace(-2*np.pi, 2*np.pi)    # -2*pi에서 2*pi까지\n",
    "# sin 함수에 무작위로 노이즈 생성하기\n",
    "sin_y = np.sin(sin_x) + 0.1*np.random.randn(len(sin_x))\n",
    "\n",
    "plt.plot(sin_x, sin_y)\n",
    "plt.show()"
   ]
  },
  {
   "cell_type": "markdown",
   "id": "6b6d4f4f",
   "metadata": {},
   "source": [
    "4.5.2 데이터 전처리"
   ]
  },
  {
   "cell_type": "code",
   "execution_count": 9,
   "id": "1974ddeb",
   "metadata": {},
   "outputs": [
    {
     "ename": "NameError",
     "evalue": "name 'n_time' is not defined",
     "output_type": "error",
     "traceback": [
      "\u001b[1;31m---------------------------------------------------------------------------\u001b[0m",
      "\u001b[1;31mNameError\u001b[0m                                 Traceback (most recent call last)",
      "\u001b[1;32m<ipython-input-9-17cf704e5b03>\u001b[0m in \u001b[0;36m<module>\u001b[1;34m\u001b[0m\n\u001b[1;32m----> 1\u001b[1;33m \u001b[0mn_sample\u001b[0m \u001b[1;33m=\u001b[0m \u001b[0mlen\u001b[0m\u001b[1;33m(\u001b[0m\u001b[0msin_x\u001b[0m\u001b[1;33m)\u001b[0m\u001b[1;33m-\u001b[0m\u001b[0mn_time\u001b[0m                      \u001b[1;31m# 샘플 수\u001b[0m\u001b[1;33m\u001b[0m\u001b[1;33m\u001b[0m\u001b[0m\n\u001b[0m\u001b[0;32m      2\u001b[0m \u001b[0minput_data\u001b[0m \u001b[1;33m=\u001b[0m \u001b[0mnp\u001b[0m\u001b[1;33m.\u001b[0m\u001b[0mzeros\u001b[0m\u001b[1;33m(\u001b[0m\u001b[1;33m(\u001b[0m\u001b[0mn_sample\u001b[0m\u001b[1;33m,\u001b[0m \u001b[0mn_time\u001b[0m\u001b[1;33m,\u001b[0m \u001b[0mn_in\u001b[0m\u001b[1;33m)\u001b[0m\u001b[1;33m)\u001b[0m   \u001b[1;31m# 입력\u001b[0m\u001b[1;33m\u001b[0m\u001b[1;33m\u001b[0m\u001b[0m\n\u001b[0;32m      3\u001b[0m \u001b[0mcorrect_data\u001b[0m \u001b[1;33m=\u001b[0m \u001b[0mnp\u001b[0m\u001b[1;33m.\u001b[0m\u001b[0mzeros\u001b[0m\u001b[1;33m(\u001b[0m\u001b[1;33m(\u001b[0m\u001b[0mn_sample\u001b[0m\u001b[1;33m,\u001b[0m \u001b[0mn_out\u001b[0m\u001b[1;33m)\u001b[0m\u001b[1;33m)\u001b[0m        \u001b[1;31m# 정답\u001b[0m\u001b[1;33m\u001b[0m\u001b[1;33m\u001b[0m\u001b[0m\n\u001b[0;32m      4\u001b[0m \u001b[1;32mfor\u001b[0m \u001b[0mi\u001b[0m \u001b[1;32min\u001b[0m \u001b[0mrange\u001b[0m\u001b[1;33m(\u001b[0m\u001b[1;36m0\u001b[0m\u001b[1;33m,\u001b[0m \u001b[0mn_sample\u001b[0m\u001b[1;33m)\u001b[0m\u001b[1;33m:\u001b[0m\u001b[1;33m\u001b[0m\u001b[1;33m\u001b[0m\u001b[0m\n\u001b[0;32m      5\u001b[0m     \u001b[0minput_data\u001b[0m\u001b[1;33m[\u001b[0m\u001b[0mi\u001b[0m\u001b[1;33m]\u001b[0m \u001b[1;33m=\u001b[0m \u001b[0msin_y\u001b[0m\u001b[1;33m[\u001b[0m\u001b[0mi\u001b[0m\u001b[1;33m:\u001b[0m\u001b[0mi\u001b[0m\u001b[1;33m+\u001b[0m\u001b[0mn_time\u001b[0m\u001b[1;33m]\u001b[0m\u001b[1;33m.\u001b[0m\u001b[0mreshape\u001b[0m\u001b[1;33m(\u001b[0m\u001b[1;33m-\u001b[0m\u001b[1;36m1\u001b[0m\u001b[1;33m,\u001b[0m \u001b[1;36m1\u001b[0m\u001b[1;33m)\u001b[0m\u001b[1;33m\u001b[0m\u001b[1;33m\u001b[0m\u001b[0m\n",
      "\u001b[1;31mNameError\u001b[0m: name 'n_time' is not defined"
     ]
    }
   ],
   "source": [
    "n_sample = len(sin_x)-n_time                      # 샘플 수\n",
    "input_data = np.zeros((n_sample, n_time, n_in))   # 입력\n",
    "correct_data = np.zeros((n_sample, n_out))        # 정답\n",
    "for i in range(0, n_sample):\n",
    "    input_data[i] = sin_y[i:i+n_time].reshape(-1, 1)\n",
    "    # 정답은 입력값 바로 다음 시점의 값\n",
    "    correct_data[i] = sin_y[i+n_time+1]"
   ]
  },
  {
   "cell_type": "markdown",
   "id": "c41ba886",
   "metadata": {},
   "source": [
    "4.5.3 훈련"
   ]
  },
  {
   "cell_type": "code",
   "execution_count": null,
   "id": "850e3622",
   "metadata": {},
   "outputs": [],
   "source": [
    "rnn_layer = SimpleRNNLayer(n_in, n_mid)\n",
    "output_layer = OutputLayer(n_mid, n_out)\n",
    "\n",
    "# -- 훈련 --\n",
    "def train(x_mb, t_mb):\n",
    "    # 순전파 RNN층\n",
    "    y_rnn = np.zeros((len(x_mb), n_time+1, n_mid))\n",
    "    y_prev = y_rnn[:, 0, :]\n",
    "    for i in range(n_time):\n",
    "        x = x_mb[:, i, :]\n",
    "        rnn_layer.forward(x, y_prev)\n",
    "        y = rnn_layer.y\n",
    "        y_rnn[:,i+1,:] = y\n",
    "        y_prev = y\n",
    "        \n",
    "    # 순전파 출력층\n",
    "    output_layer.forward(y)\n",
    "    \n",
    "    # 역전파 출력층\n",
    "    output_layer.backward(t_mb)\n",
    "    grad_y = output_layer.grad_x\n",
    "    \n",
    "    # 역전파 RNN층\n",
    "    rnn_layer.rest_sum_grad()\n",
    "    for i in reversed(range(n_time)):\n",
    "        x = x_mb[:, i, :]\n",
    "        y = y_rnn[:, i+1, :]\n",
    "        y_prev = y_rnn[:, i, :]\n",
    "        rnn_layer.backward(x, y, y_prev, grad_y)\n",
    "        grad_y = rnn_layer.grad_y_prev\n",
    "        \n",
    "    # 파라미터 갱신\n",
    "    rnn_layer.update(eta)\n",
    "    output_layer.update(eta)"
   ]
  },
  {
   "cell_type": "markdown",
   "id": "c662aee6",
   "metadata": {},
   "source": [
    "4.5.4 예측"
   ]
  },
  {
   "cell_type": "code",
   "execution_count": null,
   "id": "9ca4646d",
   "metadata": {},
   "outputs": [],
   "source": [
    "def predict(x_mb):\n",
    "    # 순전파 RNN층\n",
    "    y_prev = np.zeros((len(x_mb), n_mid))\n",
    "    for i in range(n_time):\n",
    "        x = x_mb[:, i, :]\n",
    "        rnn_layer.forward(x, y_prev)\n",
    "        y = rnn_layer.y\n",
    "        y_prev = y\n",
    "        \n",
    "    # 순전파 출력층\n",
    "    output_layer.forward(y)\n",
    "    return output_layer.y"
   ]
  },
  {
   "cell_type": "markdown",
   "id": "53827aeb",
   "metadata": {},
   "source": [
    "4.5.5. 곡선 생성"
   ]
  },
  {
   "cell_type": "code",
   "execution_count": 10,
   "id": "ab704709",
   "metadata": {},
   "outputs": [
    {
     "ename": "NameError",
     "evalue": "name 'input_data' is not defined",
     "output_type": "error",
     "traceback": [
      "\u001b[1;31m---------------------------------------------------------------------------\u001b[0m",
      "\u001b[1;31mNameError\u001b[0m                                 Traceback (most recent call last)",
      "\u001b[1;32m<ipython-input-10-f21a1039cdd3>\u001b[0m in \u001b[0;36m<module>\u001b[1;34m\u001b[0m\n\u001b[1;32m----> 1\u001b[1;33m \u001b[0mpredicted\u001b[0m \u001b[1;33m=\u001b[0m \u001b[0minput_data\u001b[0m\u001b[1;33m[\u001b[0m\u001b[1;36m0\u001b[0m\u001b[1;33m]\u001b[0m\u001b[1;33m.\u001b[0m\u001b[0mreshape\u001b[0m\u001b[1;33m(\u001b[0m\u001b[1;33m-\u001b[0m\u001b[1;36m1\u001b[0m\u001b[1;33m)\u001b[0m\u001b[1;33m.\u001b[0m\u001b[0mtolist\u001b[0m\u001b[1;33m(\u001b[0m\u001b[1;33m)\u001b[0m    \u001b[1;31m# 최초 입력\u001b[0m\u001b[1;33m\u001b[0m\u001b[1;33m\u001b[0m\u001b[0m\n\u001b[0m\u001b[0;32m      2\u001b[0m \u001b[1;32mfor\u001b[0m \u001b[0mi\u001b[0m \u001b[1;32min\u001b[0m \u001b[0mrange\u001b[0m\u001b[1;33m(\u001b[0m\u001b[0mn_sample\u001b[0m\u001b[1;33m)\u001b[0m\u001b[1;33m:\u001b[0m\u001b[1;33m\u001b[0m\u001b[1;33m\u001b[0m\u001b[0m\n\u001b[0;32m      3\u001b[0m     \u001b[1;31m# 입력은 다음 시점 시계열 데이터\u001b[0m\u001b[1;33m\u001b[0m\u001b[1;33m\u001b[0m\u001b[1;33m\u001b[0m\u001b[0m\n\u001b[0;32m      4\u001b[0m     \u001b[0mx\u001b[0m \u001b[1;33m=\u001b[0m \u001b[0mnp\u001b[0m\u001b[1;33m.\u001b[0m\u001b[0marray\u001b[0m\u001b[1;33m(\u001b[0m\u001b[0mpredicted\u001b[0m\u001b[1;33m[\u001b[0m\u001b[1;33m-\u001b[0m\u001b[0mn_time\u001b[0m\u001b[1;33m:\u001b[0m\u001b[1;33m]\u001b[0m\u001b[1;33m)\u001b[0m\u001b[1;33m.\u001b[0m\u001b[0mreshape\u001b[0m\u001b[1;33m(\u001b[0m\u001b[1;36m1\u001b[0m\u001b[1;33m,\u001b[0m \u001b[0mn_time\u001b[0m\u001b[1;33m,\u001b[0m \u001b[1;36m1\u001b[0m\u001b[1;33m)\u001b[0m\u001b[1;33m\u001b[0m\u001b[1;33m\u001b[0m\u001b[0m\n\u001b[0;32m      5\u001b[0m     \u001b[0my\u001b[0m \u001b[1;33m=\u001b[0m \u001b[0mpredict\u001b[0m\u001b[1;33m(\u001b[0m\u001b[0mx\u001b[0m\u001b[1;33m)\u001b[0m\u001b[1;33m\u001b[0m\u001b[1;33m\u001b[0m\u001b[0m\n",
      "\u001b[1;31mNameError\u001b[0m: name 'input_data' is not defined"
     ]
    }
   ],
   "source": [
    "predicted = input_data[0].reshape(-1).tolist()    # 최초 입력\n",
    "for i in range(n_sample):\n",
    "    # 입력은 다음 시점 시계열 데이터\n",
    "    x = np.array(predicted[-n_time:]).reshape(1, n_time, 1)\n",
    "    y = predict(x)\n",
    "    predicted.append(float(y[0, 0]))               # 출력을 predicted에 추가\n",
    "    \n",
    "plt.plot(range(len(sin_y)), sin_y.tolist(), label=\"Correct\")\n",
    "plt.plot(range(len(predicted)), predicted, label=\"Predicted\")\n",
    "plt.legend()\n",
    "plt.show()"
   ]
  }
 ],
 "metadata": {
  "kernelspec": {
   "display_name": "Python 3",
   "language": "python",
   "name": "python3"
  },
  "language_info": {
   "codemirror_mode": {
    "name": "ipython",
    "version": 3
   },
   "file_extension": ".py",
   "mimetype": "text/x-python",
   "name": "python",
   "nbconvert_exporter": "python",
   "pygments_lexer": "ipython3",
   "version": "3.8.8"
  }
 },
 "nbformat": 4,
 "nbformat_minor": 5
}
