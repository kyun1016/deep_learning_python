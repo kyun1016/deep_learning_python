{
 "cells": [
  {
   "cell_type": "markdown",
   "id": "27f25527",
   "metadata": {},
   "source": [
    "4.6 2진수 덧셈 학습\n",
    "4.6.2 2진수 준비"
   ]
  },
  {
   "cell_type": "code",
   "execution_count": 6,
   "id": "9e896eb6",
   "metadata": {},
   "outputs": [],
   "source": [
    "import numpy as np\n",
    "import matplotlib.pyplot as plt\n",
    "\n",
    "# -- 각 설정값 --\n",
    "n_time = 8\n",
    "n_in = 2\n",
    "n_mid = 32\n",
    "n_out = 1\n",
    "\n",
    "eta = 0.01\n",
    "n_learn = 5001\n",
    "interval = 500\n",
    "\n",
    "# -- 2진수 생성 --\n",
    "max_num = 2**n_time       # 10진수 최댓값\n",
    "# 2진수를 저장하는 배열\n",
    "binaries = np.zeros((max_num, n_time), dtype=int)\n",
    "for i in range(max_num):\n",
    "    num10 = i         # 10진수 수\n",
    "    for j in range(n_time):\n",
    "        pow2 = 2 ** (n_time-1-j)       # 2의 거듭제곱\n",
    "        binaries[i,j] = num10 // pow2  # 나눈 결과의 정수 부분만 저장\n",
    "        num10 %= pow2                  # 나눈 몫을 다시 10진수에 저장\n",
    "        \n",
    "# print(binaries)"
   ]
  },
  {
   "cell_type": "code",
   "execution_count": 4,
   "id": "eef5ca86",
   "metadata": {},
   "outputs": [],
   "source": [
    "# -- RNN층 --\n",
    "class SimpleRNNLayer:\n",
    "    def __init__(self, n_upper, n):\n",
    "        # 파라미터 초깃값\n",
    "        # 자비에르 초기화 기반의 초깃값\n",
    "        self.w = np.random.randn(n_upper, n) / np.sqrt(n_upper)\n",
    "        self.v = np.random.randn(n, n) / np.sqrt(n)   # 자비에르 초기화 기반의 초깃값\n",
    "        self.b = np.zeros(n)\n",
    "    \n",
    "    def forward(self, x, y_prev):   # y_prev:이전 시점의 출력\n",
    "        u = np.dot(x, self.w) + np.dot(y_prev, self.v) + self.b\n",
    "        self.y = np.tanh(u)         # 출력\n",
    "        \n",
    "    def backward(self, x, y, y_prev, grad_y):\n",
    "        delta = grad_y * (1 - y**2)\n",
    "        \n",
    "        # 각 기울기\n",
    "        self.grad_w += np.dot(x.T, delta)\n",
    "        self.grad_b += np.sum(delta, axis=0)\n",
    "        self.grad_x = np.dot(delta, self.w.T)\n",
    "        \n",
    "    def reset_sum_grad(self):\n",
    "        self.grad_w = np.zeros_like(self.w)\n",
    "        self.grad_b = np.zeros_like(self.b)\n",
    "        \n",
    "    def update(self, eta):\n",
    "        self.w -= eta * self.grad_w\n",
    "        self.b -= eta * self.grad_b\n",
    "        "
   ]
  },
  {
   "cell_type": "markdown",
   "id": "ce513410",
   "metadata": {},
   "source": [
    "4.6.3 출력층"
   ]
  },
  {
   "cell_type": "code",
   "execution_count": null,
   "id": "f177fa3e",
   "metadata": {},
   "outputs": [],
   "source": [
    "# -- 전결합 출력층 --\n",
    "class RNNOutputLayer:\n",
    "    def __init__(self, n_upper, n):\n",
    "        # 자비에르 초기화 기반의 초깃값\n",
    "        self.w = np.random.randn(n_upper, n) / np.sqrt(n_upper)\n",
    "        self.b = np.zeros(n)\n",
    "        \n",
    "    def forward(self, x):\n",
    "        self.x = x\n",
    "        u = np.dot(x, self.w) + self.b\n",
    "        self.y = 1/(1+np.exp(-u))   # 시그모이드 함수\n",
    "        \n",
    "    def backward(self, x,y,t):\n",
    "        delta = (y-t)*y*(1-y)\n",
    "        \n",
    "        self.grad_w += np.dot(x.T, delta)\n",
    "        self.grad_b += np.sum(delta, axis=0)\n",
    "        self.grad_x = np.dot(delta, self.w.T)\n",
    "        \n",
    "    def reset_sum_grad(self):\n",
    "        self.grad_w = np.zeros_like(self.w)\n",
    "        self.grad_b = np.zeros_like(self.b)\n",
    "        \n",
    "    def update(self, eta):\n",
    "        self.w -= eta * self.grad_w\n",
    "        self.b -= eta * self.grad_b"
   ]
  },
  {
   "cell_type": "code",
   "execution_count": 7,
   "id": "ead4abfb",
   "metadata": {},
   "outputs": [
    {
     "ename": "NameError",
     "evalue": "name 'RNNOutputLayer' is not defined",
     "output_type": "error",
     "traceback": [
      "\u001b[1;31m---------------------------------------------------------------------------\u001b[0m",
      "\u001b[1;31mNameError\u001b[0m                                 Traceback (most recent call last)",
      "\u001b[1;32m<ipython-input-7-5a157dfd1919>\u001b[0m in \u001b[0;36m<module>\u001b[1;34m\u001b[0m\n\u001b[0;32m      1\u001b[0m \u001b[1;31m# -- 각 층의 초기화 --\u001b[0m\u001b[1;33m\u001b[0m\u001b[1;33m\u001b[0m\u001b[1;33m\u001b[0m\u001b[0m\n\u001b[0;32m      2\u001b[0m \u001b[0mrnn_layer\u001b[0m \u001b[1;33m=\u001b[0m \u001b[0mSimpleRNNLayer\u001b[0m\u001b[1;33m(\u001b[0m\u001b[0mn_in\u001b[0m\u001b[1;33m,\u001b[0m \u001b[0mn_mid\u001b[0m\u001b[1;33m)\u001b[0m\u001b[1;33m\u001b[0m\u001b[1;33m\u001b[0m\u001b[0m\n\u001b[1;32m----> 3\u001b[1;33m \u001b[0moutput_layer\u001b[0m \u001b[1;33m=\u001b[0m \u001b[0mRNNOutputLayer\u001b[0m\u001b[1;33m(\u001b[0m\u001b[0mn_mid\u001b[0m\u001b[1;33m,\u001b[0m \u001b[0mn_out\u001b[0m\u001b[1;33m)\u001b[0m\u001b[1;33m\u001b[0m\u001b[1;33m\u001b[0m\u001b[0m\n\u001b[0m\u001b[0;32m      4\u001b[0m \u001b[1;33m\u001b[0m\u001b[0m\n\u001b[0;32m      5\u001b[0m \u001b[1;31m# -- 훈련 --\u001b[0m\u001b[1;33m\u001b[0m\u001b[1;33m\u001b[0m\u001b[1;33m\u001b[0m\u001b[0m\n",
      "\u001b[1;31mNameError\u001b[0m: name 'RNNOutputLayer' is not defined"
     ]
    }
   ],
   "source": [
    "# -- 각 층의 초기화 --\n",
    "rnn_layer = SimpleRNNLayer(n_in, n_mid)\n",
    "output_layer = RNNOutputLayer(n_mid, n_out)\n",
    "\n",
    "# -- 훈련 --\n",
    "def train(x_mb, t_mb):\n",
    "    # 각 출력값을 저장하는 배열\n",
    "    y_rnn = np.zeros((len(x_mb), n_time+1, n_mid))\n",
    "    y_out = np.zeros((len(x_mb), n_time, n_out))\n",
    "    \n",
    "    # 순전파\n",
    "    y_prev = y_rnn[:, 0, :]\n",
    "    for i in range(n_time):\n",
    "        # RNN층\n",
    "        x = x_mb[:,i,:]\n",
    "        rnn_layer.forward(x, y_prev)\n",
    "        y = rnn_layer.y\n",
    "        y_rnn[:. i+1, :] = y\n",
    "        y_prev = y\n",
    "    \n",
    "    # 출력층\n",
    "    output_layer.forward(y)\n",
    "    y_out[:,i,:] = output_layer.y\n",
    "    \n"
   ]
  },
  {
   "cell_type": "markdown",
   "id": "b2400925",
   "metadata": {},
   "source": [
    "4.6.4 훈련"
   ]
  },
  {
   "cell_type": "code",
   "execution_count": null,
   "id": "0ff8ab6c",
   "metadata": {},
   "outputs": [],
   "source": [
    "# -- 각 층의 초기화"
   ]
  }
 ],
 "metadata": {
  "kernelspec": {
   "display_name": "Python 3",
   "language": "python",
   "name": "python3"
  },
  "language_info": {
   "codemirror_mode": {
    "name": "ipython",
    "version": 3
   },
   "file_extension": ".py",
   "mimetype": "text/x-python",
   "name": "python",
   "nbconvert_exporter": "python",
   "pygments_lexer": "ipython3",
   "version": "3.8.8"
  }
 },
 "nbformat": 4,
 "nbformat_minor": 5
}
