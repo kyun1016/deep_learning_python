{
 "cells": [
  {
   "cell_type": "code",
   "execution_count": null,
   "id": "13eb6606",
   "metadata": {},
   "outputs": [],
   "source": [
    "import numpy as np\n",
    "# import cupy as np\n",
    "import matplotlib.pyplot as plt\n",
    "from sklearn import datasets\n",
    "\n",
    "# -- 각 설정값 --\n",
    "img_size = 8\n",
    "n_noise = 16\n",
    "eta = 0.001\n",
    "n_learn = 10001\n",
    "interval = 1000\n",
    "batch_size = 32\n",
    "\n",
    "# -- 훈련 데이터 생성 --\n",
    "digits_data = datasets.load_digits()\n",
    "x_train = np.asarray(digits_data.data)   # GPU 대응\n",
    "x_train = x_train / 15*2-1               # 범위는 -1~1\n",
    "x_train = digits_data.target\n",
    "\n",
    "# -- 각 전결합 신경망층에서 상속할 입력층 --\n",
    "class BaseLayer:\n",
    "    def update(self, eta):\n",
    "        self.w -= eta * self.grad_w\n",
    "        self.b -= eta * self.grad_b\n",
    "        \n",
    "# -- 은닉층 --\n",
    "class MiddleLayer(BaseLayer):\n",
    "    def __init__(self, n_upper, n):\n",
    "        # He의 초깃값\n",
    "        self.w = np.random.randn(n_upper, n) * np.sqrt(2/n_upper)\n",
    "        self.b = np.zeros(n)\n",
    "        \n",
    "    def forward(self, x):\n",
    "        self.x = x\n",
    "        self.u = np.dot(x, self.w) + self.b"
   ]
  }
 ],
 "metadata": {
  "kernelspec": {
   "display_name": "Python 3",
   "language": "python",
   "name": "python3"
  },
  "language_info": {
   "codemirror_mode": {
    "name": "ipython",
    "version": 3
   },
   "file_extension": ".py",
   "mimetype": "text/x-python",
   "name": "python",
   "nbconvert_exporter": "python",
   "pygments_lexer": "ipython3",
   "version": "3.8.8"
  }
 },
 "nbformat": 4,
 "nbformat_minor": 5
}
