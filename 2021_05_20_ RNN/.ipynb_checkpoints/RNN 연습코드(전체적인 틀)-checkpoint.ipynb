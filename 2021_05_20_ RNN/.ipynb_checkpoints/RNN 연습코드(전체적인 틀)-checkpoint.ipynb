{
 "cells": [
  {
   "cell_type": "markdown",
   "id": "c5cec450",
   "metadata": {},
   "source": [
    "4.4.1 RNN층 클래스"
   ]
  },
  {
   "cell_type": "code",
   "execution_count": null,
   "id": "7ab352fc",
   "metadata": {},
   "outputs": [],
   "source": [
    "import numpy as np\n",
    "\n",
    "# -- RNN층 --\n",
    "class SimpleRNNLayer:\n",
    "    def __init__(self, n_upper, n):\n",
    "        # 파라미터 초깃값 설정\n",
    "        self.w = np.random.randn(n_upper, n) / np.sqrt(n_upper)\n",
    "        self.v - np.random.randn(n,n)"
   ]
  }
 ],
 "metadata": {
  "kernelspec": {
   "display_name": "Python 3",
   "language": "python",
   "name": "python3"
  },
  "language_info": {
   "codemirror_mode": {
    "name": "ipython",
    "version": 3
   },
   "file_extension": ".py",
   "mimetype": "text/x-python",
   "name": "python",
   "nbconvert_exporter": "python",
   "pygments_lexer": "ipython3",
   "version": "3.8.8"
  }
 },
 "nbformat": 4,
 "nbformat_minor": 5
}
