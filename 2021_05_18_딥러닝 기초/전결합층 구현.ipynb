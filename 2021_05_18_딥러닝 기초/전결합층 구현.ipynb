{
 "cells": [
  {
   "cell_type": "markdown",
   "id": "3a01c7a1",
   "metadata": {},
   "source": [
    "공통 클래스 구현"
   ]
  },
  {
   "cell_type": "code",
   "execution_count": null,
   "id": "321bb188",
   "metadata": {},
   "outputs": [],
   "source": [
    "import numpy as np\n",
    "\n",
    "# 전결합층의 부모 클래스\n",
    "class BaseLayer:\n",
    "    def update(self, eta):\n",
    "        self.w -= eta * self.grad_w\n",
    "        self.b -= eta * self.grad_b\n",
    "        "
   ]
  },
  {
   "cell_type": "markdown",
   "id": "9dcb14f4",
   "metadata": {},
   "source": [
    "은닉층 구현"
   ]
  },
  {
   "cell_type": "code",
   "execution_count": null,
   "id": "2acb72b5",
   "metadata": {},
   "outputs": [],
   "source": [
    "# 은닉층\n",
    "class MiddleLayer:\n",
    "    def __init__(self, n_upper, n):\n",
    "        # He 초깃값\n",
    "        self.w = np.random.randn(n_upper, n) * np.sqrt(2/n_upper)\n",
    "        self.b = np.zeros(n)\n",
    "        \n",
    "    def forward(self, x):\n",
    "        self.x = x\n",
    "        self.u = np.dot(x, self.w) + self.b\n",
    "        self.y = np.where(self.u <= 0, 0, self.u)      # ReLU\n",
    "        \n",
    "    def backward(self, grad_y):\n",
    "        delta = grad_y * np.where(self.u <= 0, 0, 1)   # ReLU 미분\n",
    "        \n",
    "        self.grad_w = np.dot(self.x.T, delta)\n",
    "        self.grad_d = np.sum(delta, axis=0)\n",
    "        self.grad_x = np.dot(delta, self.w.T)"
   ]
  }
 ],
 "metadata": {
  "kernelspec": {
   "display_name": "Python 3",
   "language": "python",
   "name": "python3"
  },
  "language_info": {
   "codemirror_mode": {
    "name": "ipython",
    "version": 3
   },
   "file_extension": ".py",
   "mimetype": "text/x-python",
   "name": "python",
   "nbconvert_exporter": "python",
   "pygments_lexer": "ipython3",
   "version": "3.8.8"
  }
 },
 "nbformat": 4,
 "nbformat_minor": 5
}
