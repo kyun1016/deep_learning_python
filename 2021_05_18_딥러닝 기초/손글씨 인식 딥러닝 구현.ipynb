{
 "cells": [
  {
   "cell_type": "markdown",
   "id": "3a01c7a1",
   "metadata": {},
   "source": [
    "공통 클래스 구현"
   ]
  },
  {
   "cell_type": "code",
   "execution_count": 19,
   "id": "321bb188",
   "metadata": {},
   "outputs": [],
   "source": [
    "import numpy as np\n",
    "\n",
    "# 전결합층의 부모 클래스\n",
    "class BaseLayer:\n",
    "    def update(self, eta):\n",
    "        self.w -= eta * self.grad_w\n",
    "        self.b -= eta * self.grad_b\n",
    "        "
   ]
  },
  {
   "cell_type": "markdown",
   "id": "9dcb14f4",
   "metadata": {},
   "source": [
    "은닉층 구현"
   ]
  },
  {
   "cell_type": "code",
   "execution_count": 20,
   "id": "2acb72b5",
   "metadata": {},
   "outputs": [],
   "source": [
    "# 은닉층\n",
    "class MiddleLayer(BaseLayer):\n",
    "    def __init__(self, n_upper, n):\n",
    "        # He 초깃값\n",
    "        self.w = np.random.randn(n_upper, n) * np.sqrt(2/n_upper)\n",
    "        self.b = np.zeros(n)\n",
    "        \n",
    "    def forward(self, x):\n",
    "        self.x = x\n",
    "        self.u = np.dot(x, self.w) + self.b\n",
    "        self.y = np.where(self.u <= 0, 0, self.u)      # ReLU\n",
    "        \n",
    "    def backward(self, grad_y):\n",
    "        delta = grad_y * np.where(self.u <= 0, 0, 1)   # ReLU 미분\n",
    "        \n",
    "        self.grad_w = np.dot(self.x.T, delta)\n",
    "        self.grad_d = np.sum(delta, axis=0)\n",
    "        self.grad_x = np.dot(delta, self.w.T)"
   ]
  },
  {
   "cell_type": "markdown",
   "id": "f3e7894a",
   "metadata": {},
   "source": [
    "출력층 구현"
   ]
  },
  {
   "cell_type": "code",
   "execution_count": 21,
   "id": "035af311",
   "metadata": {},
   "outputs": [],
   "source": [
    "class OutputLayer(BaseLayer):\n",
    "    def __init__(self, n_upper, n):\n",
    "        # 자비에르 초기화 기반의 초깃값\n",
    "        self.w = np.random.randn(n_upper, n) / np.sqrt(n_upper)\n",
    "        self.b = np.zeros(n)\n",
    "        \n",
    "    def forward(self, x):\n",
    "        self.x = x\n",
    "        u = np.dot(x, self.w) + self.b\n",
    "        # 소프트맥스 함수\n",
    "        self.y = np.exp(u)/np.sum(np.exp(u), axis=1, keepdims=True)\n",
    "        \n",
    "    def backward(self, t):\n",
    "        delta = self.y - t\n",
    "        \n",
    "        self.grad_w = np.dot(self.x.T, delta)\n",
    "        self.grad_b = np.sum(delta, axis=0)\n",
    "        self.grad_x = np.dot(delta, self.w.T)"
   ]
  },
  {
   "cell_type": "markdown",
   "id": "638cb5f5",
   "metadata": {},
   "source": [
    "3.5.1 손글씨 숫자 이미지 데이터 확인"
   ]
  },
  {
   "cell_type": "code",
   "execution_count": 22,
   "id": "f3e9232c",
   "metadata": {},
   "outputs": [
    {
     "data": {
      "image/png": "[encoded data removed]",
      "text/plain": [
       "<Figure size 720x288 with 10 Axes>"
      ]
     },
     "metadata": {
      "needs_background": "light"
     },
     "output_type": "display_data"
    },
    {
     "name": "stdout",
     "output_type": "stream",
     "text": [
      "데이터 형태: (1797, 64)\n",
      "레이블: [0 1 2 3 4 5 6 7 8 9]\n"
     ]
    }
   ],
   "source": [
    "import numpy as np\n",
    "import matplotlib.pyplot as plt\n",
    "from sklearn import datasets\n",
    "\n",
    "# scikit-learn에 포함된 학습용 데이터 활용\n",
    "digits_data = datasets.load_digits()\n",
    "\n",
    "n_mid = 16\n",
    "n_out = 10\n",
    "n_img = 10          # 출력할 이미지 개수\n",
    "img_size = 8\n",
    "eta = 0.001\n",
    "epochs = 51\n",
    "batch_size = 32\n",
    "\n",
    "\n",
    "plt.figure(figsize=(10,4))\n",
    "for i in range(n_img):\n",
    "    # 입력 이미지\n",
    "    ax = plt.subplot(2, 5, i+1)\n",
    "    plt.imshow(digits_data.data[i].reshape(8, 8), cmap=\"Greys_r\")\n",
    "    ax.get_xaxis().set_visible(False)    # 축을 표시하지 않음\n",
    "    ax.get_yaxis().set_visible(False)\n",
    "plt.show()\n",
    "\n",
    "print(\"데이터 형태:\", digits_data.data.shape)\n",
    "print(\"레이블:\", digits_data.target[:n_img])"
   ]
  },
  {
   "cell_type": "markdown",
   "id": "1315facd",
   "metadata": {},
   "source": [
    "3.5.2 데이터 전처리"
   ]
  },
  {
   "cell_type": "code",
   "execution_count": 23,
   "id": "41c28888",
   "metadata": {},
   "outputs": [],
   "source": [
    "from sklearn.model_selection import train_test_split\n",
    "import numpy as np\n",
    "\n",
    "# 입력 데이터\n",
    "input_data = np.asarray(digits_data.data)\n",
    "# 평균 0, 표준편차 1\n",
    "input_data = (input_data - np.average(input_data)) / np.std(input_data)\n",
    "\n",
    "# 정답 데이터\n",
    "correct = np.asarray(digits_data.target)\n",
    "correct_data = np.zeros((len(correct), n_out))\n",
    "for i in range(len(correct)):\n",
    "    correct_data[i, correct[i]] = 1       # 원핫 인코딩\n",
    "    \n",
    "# 훈련 데이터와 테스트 데이터로 분할\n",
    "x_train, x_test, t_train, t_test = train_test_split(input_data, correct_data)"
   ]
  },
  {
   "cell_type": "markdown",
   "id": "0f752836",
   "metadata": {},
   "source": [
    "3.5.3 순전파와 역전파"
   ]
  },
  {
   "cell_type": "code",
   "execution_count": 24,
   "id": "d7ac0773",
   "metadata": {},
   "outputs": [],
   "source": [
    "# 각 층의 초기화\n",
    "layers = [MiddleLayer(img_size*img_size, n_mid),\n",
    "         MiddleLayer(n_mid, n_mid),\n",
    "          OutputLayer(n_mid, n_out)]\n",
    "\n",
    "# 순전파\n",
    "def forward_propagation(x):\n",
    "    for layer in layers:\n",
    "        layer.forward(x)\n",
    "        x = layer.y\n",
    "    return x\n",
    "\n",
    "# 역전파\n",
    "def backpropagation(t):\n",
    "    grad_y = t\n",
    "    for layer in reversed(layers):\n",
    "        layer.backward(grad_y)\n",
    "        grad_y = layer.grad_x\n",
    "    return grad_y\n",
    "\n",
    "# 파라미터 갱신\n",
    "def update_params():\n",
    "    for layer in layers:\n",
    "        layer.update(eta)"
   ]
  },
  {
   "cell_type": "code",
   "execution_count": 25,
   "id": "9b117b5f",
   "metadata": {},
   "outputs": [
    {
     "ename": "AttributeError",
     "evalue": "'MiddleLayer' object has no attribute 'grad_b'",
     "output_type": "error",
     "traceback": [
      "\u001b[1;31m---------------------------------------------------------------------------\u001b[0m",
      "\u001b[1;31mAttributeError\u001b[0m                            Traceback (most recent call last)",
      "\u001b[1;32m<ipython-input-25-c5bf56cdf06a>\u001b[0m in \u001b[0;36m<module>\u001b[1;34m\u001b[0m\n\u001b[0;32m     17\u001b[0m \u001b[1;33m\u001b[0m\u001b[0m\n\u001b[0;32m     18\u001b[0m         \u001b[1;31m# 파라미터 갱신\u001b[0m\u001b[1;33m\u001b[0m\u001b[1;33m\u001b[0m\u001b[1;33m\u001b[0m\u001b[0m\n\u001b[1;32m---> 19\u001b[1;33m         \u001b[0mupdate_params\u001b[0m\u001b[1;33m(\u001b[0m\u001b[1;33m)\u001b[0m\u001b[1;33m\u001b[0m\u001b[1;33m\u001b[0m\u001b[0m\n\u001b[0m",
      "\u001b[1;32m<ipython-input-24-ceb15b7feae8>\u001b[0m in \u001b[0;36mupdate_params\u001b[1;34m()\u001b[0m\n\u001b[0;32m     22\u001b[0m \u001b[1;32mdef\u001b[0m \u001b[0mupdate_params\u001b[0m\u001b[1;33m(\u001b[0m\u001b[1;33m)\u001b[0m\u001b[1;33m:\u001b[0m\u001b[1;33m\u001b[0m\u001b[1;33m\u001b[0m\u001b[0m\n\u001b[0;32m     23\u001b[0m     \u001b[1;32mfor\u001b[0m \u001b[0mlayer\u001b[0m \u001b[1;32min\u001b[0m \u001b[0mlayers\u001b[0m\u001b[1;33m:\u001b[0m\u001b[1;33m\u001b[0m\u001b[1;33m\u001b[0m\u001b[0m\n\u001b[1;32m---> 24\u001b[1;33m         \u001b[0mlayer\u001b[0m\u001b[1;33m.\u001b[0m\u001b[0mupdate\u001b[0m\u001b[1;33m(\u001b[0m\u001b[0meta\u001b[0m\u001b[1;33m)\u001b[0m\u001b[1;33m\u001b[0m\u001b[1;33m\u001b[0m\u001b[0m\n\u001b[0m",
      "\u001b[1;32m<ipython-input-19-ab052dc3c2ae>\u001b[0m in \u001b[0;36mupdate\u001b[1;34m(self, eta)\u001b[0m\n\u001b[0;32m      5\u001b[0m     \u001b[1;32mdef\u001b[0m \u001b[0mupdate\u001b[0m\u001b[1;33m(\u001b[0m\u001b[0mself\u001b[0m\u001b[1;33m,\u001b[0m \u001b[0meta\u001b[0m\u001b[1;33m)\u001b[0m\u001b[1;33m:\u001b[0m\u001b[1;33m\u001b[0m\u001b[1;33m\u001b[0m\u001b[0m\n\u001b[0;32m      6\u001b[0m         \u001b[0mself\u001b[0m\u001b[1;33m.\u001b[0m\u001b[0mw\u001b[0m \u001b[1;33m-=\u001b[0m \u001b[0meta\u001b[0m \u001b[1;33m*\u001b[0m \u001b[0mself\u001b[0m\u001b[1;33m.\u001b[0m\u001b[0mgrad_w\u001b[0m\u001b[1;33m\u001b[0m\u001b[1;33m\u001b[0m\u001b[0m\n\u001b[1;32m----> 7\u001b[1;33m         \u001b[0mself\u001b[0m\u001b[1;33m.\u001b[0m\u001b[0mb\u001b[0m \u001b[1;33m-=\u001b[0m \u001b[0meta\u001b[0m \u001b[1;33m*\u001b[0m \u001b[0mself\u001b[0m\u001b[1;33m.\u001b[0m\u001b[0mgrad_b\u001b[0m\u001b[1;33m\u001b[0m\u001b[1;33m\u001b[0m\u001b[0m\n\u001b[0m\u001b[0;32m      8\u001b[0m \u001b[1;33m\u001b[0m\u001b[0m\n",
      "\u001b[1;31mAttributeError\u001b[0m: 'MiddleLayer' object has no attribute 'grad_b'"
     ]
    }
   ],
   "source": [
    "n_batch = len(x_train) // batch_size   # 1에포크당 배치 개수\n",
    "for i in range(epochs):\n",
    "    \n",
    "    # --학습--\n",
    "    index_random = np.arange(len(x_train))\n",
    "    np.random.shuffle(index_random)    # 인덱스를 임의로 섞기\n",
    "    for j in range(n_batch):\n",
    "        \n",
    "        # 미니 배치 구성\n",
    "        mb_index = index_random[j*batch_size : (j+1)*batch_size]\n",
    "        x_mb = x_train[mb_index, :]\n",
    "        t_mb = t_train[mb_index, :]\n",
    "        \n",
    "        # 순잔파와 역전파\n",
    "        forward_propagation(x_mb)\n",
    "        backpropagation(t_mb)\n",
    "        \n",
    "        # 파라미터 갱신\n",
    "        update_params()"
   ]
  },
  {
   "cell_type": "code",
   "execution_count": null,
   "id": "51da9e4f",
   "metadata": {},
   "outputs": [],
   "source": []
  },
  {
   "cell_type": "code",
   "execution_count": null,
   "id": "fa501c02",
   "metadata": {},
   "outputs": [],
   "source": []
  }
 ],
 "metadata": {
  "kernelspec": {
   "display_name": "Python 3",
   "language": "python",
   "name": "python3"
  },
  "language_info": {
   "codemirror_mode": {
    "name": "ipython",
    "version": 3
   },
   "file_extension": ".py",
   "mimetype": "text/x-python",
   "name": "python",
   "nbconvert_exporter": "python",
   "pygments_lexer": "ipython3",
   "version": "3.8.8"
  }
 },
 "nbformat": 4,
 "nbformat_minor": 5
}
