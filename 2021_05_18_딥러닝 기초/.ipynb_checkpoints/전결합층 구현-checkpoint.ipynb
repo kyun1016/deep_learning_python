{
 "cells": [
  {
   "cell_type": "markdown",
   "id": "d035877e",
   "metadata": {},
   "source": [
    "공통 클래스 구현"
   ]
  },
  {
   "cell_type": "code",
   "execution_count": null,
   "id": "9a18fa33",
   "metadata": {},
   "outputs": [],
   "source": [
    "import numpy as np\n",
    "\n",
    "# 전결합층의 부모 클래스\n",
    "class BaseLayer:\n",
    "    def update(self, eta):\n",
    "        self.w -= eta * self.grad_w\n",
    "        self.b -= eta * self.grad_b\n",
    "        "
   ]
  },
  {
   "cell_type": "markdown",
   "id": "60efa8ba",
   "metadata": {},
   "source": [
    "은닉층 구현"
   ]
  },
  {
   "cell_type": "code",
   "execution_count": null,
   "id": "2e200a6c",
   "metadata": {},
   "outputs": [],
   "source": [
    "# 은닉층\n",
    "class MiddleLayer:\n",
    "    def __init__(self, n_upper, n):\n",
    "        # He 초깃값\n",
    "        self.w = np.random.randn(n_upper, n) * np.sqrt(2/n_upper)\n",
    "        self.b = np.zeros(n)"
   ]
  }
 ],
 "metadata": {
  "kernelspec": {
   "display_name": "Python 3",
   "language": "python",
   "name": "python3"
  },
  "language_info": {
   "codemirror_mode": {
    "name": "ipython",
    "version": 3
   },
   "file_extension": ".py",
   "mimetype": "text/x-python",
   "name": "python",
   "nbconvert_exporter": "python",
   "pygments_lexer": "ipython3",
   "version": "3.8.8"
  }
 },
 "nbformat": 4,
 "nbformat_minor": 5
}
